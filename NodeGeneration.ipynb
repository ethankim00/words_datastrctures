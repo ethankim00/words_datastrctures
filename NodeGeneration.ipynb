{
 "cells": [
  {
   "cell_type": "code",
   "execution_count": 2,
   "metadata": {},
   "outputs": [],
   "source": [
    "import numpy as np\n",
    "import pandas as pd \n",
    "import matplotlib.pyplot as plt\n",
    "from word_forms.word_forms import get_word_forms\n",
    "import re"
   ]
  },
  {
   "cell_type": "markdown",
   "metadata": {},
   "source": [
    "how to uniquely identify nodes?\n",
    "\n",
    "Can remove duplicates within each node\n",
    "\n",
    "How to efficinetly process dataframe "
   ]
  },
  {
   "cell_type": "code",
   "execution_count": 4,
   "metadata": {},
   "outputs": [],
   "source": [
    "# Read + process new 30K workd corpus\n",
    "def process_words():\n",
    "    \"\"\"Process list of words and expand to include all valid plurals, verb forms etc.\"\"\"\n",
    "    words = []\n",
    "    with open(\"Vocabulary/30k.txt\", \"r\") as file:\n",
    "        for line in file:\n",
    "            words.append(line[:-2])\n",
    "\n",
    "    with open(\"Data/additionalwords.txt\", \"r\") as file:\n",
    "        for line in file:\n",
    "            words.append(line[:-1])\n",
    "\n",
    "    regex = re.compile('[^a-zA-Z]')\n",
    "    all_words = []\n",
    "    for word in words:\n",
    "        related = get_word_forms(word)\n",
    "        for key in related.keys():\n",
    "            for item in related[key]:\n",
    "                if len(item) >= 3:\n",
    "                    item = regex.sub('', item)\n",
    "                    item = item.lower()\n",
    "                    all_words.append(item)\n",
    "\n",
    "    words_df = pd.DataFrame({'word' :all_words})\n",
    "\n",
    "    words_df = words_df.drop_duplicates(subset = 'word')\n",
    "\n",
    "    words_df.to_csv('Data/all_words',index_label=None)"
   ]
  },
  {
   "cell_type": "code",
   "execution_count": 5,
   "metadata": {},
   "outputs": [],
   "source": [
    "def word_to_dict_key(word):\n",
    "    return \"\".join(sorted(word))"
   ]
  },
  {
   "cell_type": "code",
   "execution_count": 6,
   "metadata": {},
   "outputs": [],
   "source": [
    "nodes = {}"
   ]
  },
  {
   "cell_type": "code",
   "execution_count": 7,
   "metadata": {},
   "outputs": [],
   "source": [
    "for i, word in enumerate(words_df['word']):\n",
    "    if len(word) < 10:\n",
    "        key = word_to_dict_key(word)\n",
    "        try:\n",
    "            nodes[key].append(word)\n",
    "        except:\n",
    "            nodes[key] = [word]"
   ]
  },
  {
   "cell_type": "code",
   "execution_count": 8,
   "metadata": {},
   "outputs": [
    {
     "data": {
      "text/plain": [
       "27079"
      ]
     },
     "execution_count": 8,
     "metadata": {},
     "output_type": "execute_result"
    }
   ],
   "source": [
    "len(nodes.keys())"
   ]
  },
  {
   "cell_type": "code",
   "execution_count": 9,
   "metadata": {},
   "outputs": [],
   "source": [
    "def search_permutations(word):\n",
    "    key = word_to_dict_key(word)\n",
    "    try:\n",
    "        return nodes[key]\n",
    "    except:\n",
    "        return False"
   ]
  },
  {
   "cell_type": "code",
   "execution_count": 10,
   "metadata": {},
   "outputs": [
    {
     "data": {
      "text/plain": [
       "['time', 'item', 'emit', 'mite']"
      ]
     },
     "execution_count": 10,
     "metadata": {},
     "output_type": "execute_result"
    }
   ],
   "source": [
    "search_permutations('time')"
   ]
  },
  {
   "cell_type": "code",
   "execution_count": 11,
   "metadata": {},
   "outputs": [],
   "source": [
    "def graph(word, depth = 0):\n",
    "    spacer = '  '*depth\n",
    "    words = search_permutations(word)\n",
    "    if words:\n",
    "        for word in words:\n",
    "            print(spacer + word)\n",
    "    base = word\n",
    "    for next_node in 'abdefghijklmnopqrstuvwxyz':\n",
    "        word = base + next_node\n",
    "        if word_to_dict_key(word) in nodes.keys():\n",
    "            print(\"\\n\")\n",
    "            print(spacer + next_node)\n",
    "            graph(word, depth + 1)"
   ]
  },
  {
   "cell_type": "code",
   "execution_count": 12,
   "metadata": {},
   "outputs": [
    {
     "name": "stdout",
     "output_type": "stream",
     "text": [
      "median\n",
      "maiden\n",
      "medina\n",
      "\n",
      "\n",
      "s\n",
      "  medians\n",
      "  maidens\n",
      "  medinas\n"
     ]
    }
   ],
   "source": [
    "graph('mained')"
   ]
  },
  {
   "cell_type": "markdown",
   "metadata": {},
   "source": [
    "How to train on a much larger corpus"
   ]
  },
  {
   "cell_type": "markdown",
   "metadata": {},
   "source": [
    "# How to construct and visualize DAG "
   ]
  }
 ],
 "metadata": {
  "kernelspec": {
   "display_name": "Python 3",
   "language": "python",
   "name": "python3"
  },
  "language_info": {
   "codemirror_mode": {
    "name": "ipython",
    "version": 3
   },
   "file_extension": ".py",
   "mimetype": "text/x-python",
   "name": "python",
   "nbconvert_exporter": "python",
   "pygments_lexer": "ipython3",
   "version": "3.6.5"
  },
  "toc": {
   "base_numbering": 1,
   "nav_menu": {},
   "number_sections": false,
   "sideBar": true,
   "skip_h1_title": false,
   "title_cell": "Table of Contents",
   "title_sidebar": "Contents",
   "toc_cell": false,
   "toc_position": {},
   "toc_section_display": true,
   "toc_window_display": true
  },
  "varInspector": {
   "cols": {
    "lenName": 16,
    "lenType": 16,
    "lenVar": 40
   },
   "kernels_config": {
    "python": {
     "delete_cmd_postfix": "",
     "delete_cmd_prefix": "del ",
     "library": "var_list.py",
     "varRefreshCmd": "print(var_dic_list())"
    },
    "r": {
     "delete_cmd_postfix": ") ",
     "delete_cmd_prefix": "rm(",
     "library": "var_list.r",
     "varRefreshCmd": "cat(var_dic_list()) "
    }
   },
   "types_to_exclude": [
    "module",
    "function",
    "builtin_function_or_method",
    "instance",
    "_Feature"
   ],
   "window_display": false
  }
 },
 "nbformat": 4,
 "nbformat_minor": 2
}
